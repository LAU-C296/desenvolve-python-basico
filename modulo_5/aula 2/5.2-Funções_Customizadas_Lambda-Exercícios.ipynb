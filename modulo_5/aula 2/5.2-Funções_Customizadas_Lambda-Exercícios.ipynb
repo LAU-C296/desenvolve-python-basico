{
 "cells": [
  {
   "cell_type": "markdown",
   "id": "cbdff5a5",
   "metadata": {},
   "source": [
    "# Módulo 5 - Funções\n",
    "\n",
    "## Aulas 5.2 - Funções Customizadas e 5.4 Funções ```lambda```"
   ]
  },
  {
   "cell_type": "markdown",
   "id": "28a3fee2",
   "metadata": {},
   "source": [
    "### Q1.\n",
    "\n",
    "- Sabendo que o código a seguir calcula o fatorial de n, escreva uma função chamada ```fatorial()``` que recebe um inteiro ```n``` como parâmetro e retorna o resultado do fatorial de ```n```. \n",
    "- No programa principal, peça ao usuário o valor de ```n```, chame a sua função e imprima o retorno.\n",
    "\n",
    "```python\n",
    "fat = 1\n",
    "for i in range(1, n+1):\n",
    "    fat *= i \n",
    "```"
   ]
  },
  {
   "cell_type": "code",
   "execution_count": 15,
   "id": "d126b3a5",
   "metadata": {},
   "outputs": [],
   "source": [
    "## Crie aqui a função fatorial()\n",
    "## lembre-se de executar a célula para que \n",
    "## a função passe a existir e possa ser chamada\n",
    "\n",
    "def fatorial(n):\n",
    "    fat = 1\n",
    "    for i in range(1, n + 1):\n",
    "        fat *= i\n",
    "    return fat\n",
    "    "
   ]
  },
  {
   "cell_type": "code",
   "execution_count": null,
   "id": "6e4fe64e",
   "metadata": {},
   "outputs": [
    {
     "name": "stdout",
     "output_type": "stream",
     "text": [
      "O fatorial de 3 é 6.\n"
     ]
    }
   ],
   "source": [
    "## Escreva aqui o programa principal e execute a célula\n",
    "n = int(input(\"Digite um número inteiro: \"))\n",
    "resultado = fatorial(n)\n",
    "print(f\"O fatorial de {n} é {resultado}.\")"
   ]
  },
  {
   "cell_type": "markdown",
   "id": "c0a1f599",
   "metadata": {},
   "source": [
    "### Q2.\n",
    "\n",
    "- Escreva uma função em Python chamada ```soma_quadrados``` que recebe dois números como parâmetros e retorna a soma dos seus quadrados. \n",
    "- No programa principal solicite ao usuário que insira dois números e utilize a função para exibir a soma dos quadrados."
   ]
  },
  {
   "cell_type": "code",
   "execution_count": 23,
   "id": "6dbddaad",
   "metadata": {},
   "outputs": [],
   "source": [
    "## Crie aqui a função soma_quadrados()\n",
    "def soma_quadrados(x,y):\n",
    "    return x**2 + y**2"
   ]
  },
  {
   "cell_type": "code",
   "execution_count": 24,
   "id": "9175a7da",
   "metadata": {},
   "outputs": [
    {
     "name": "stdout",
     "output_type": "stream",
     "text": [
      "A soma dos quadrados de 2 e 3 é 13.\n"
     ]
    }
   ],
   "source": [
    "## Escreva aqui o programa principal e execute a célula\n",
    "num1 = int(input(\"Digite o primeiro número: \"))\n",
    "num2 = int(input(\"Digite o segundo número: \"))\n",
    "resultado_soma = soma_quadrados(num1, num2)\n",
    "print(f\"A soma dos quadrados de {num1} e {num2} é {resultado_soma}.\")\n"
   ]
  },
  {
   "cell_type": "markdown",
   "id": "6ba34ce0",
   "metadata": {},
   "source": [
    "### Q3.\n",
    "\n",
    "- Crie uma função em Python chamada ```soma_digitos``` que recebe um número inteiro como parâmetro e retorna a soma dos seus dígitos. Por exemplo, para o número 123, a função deve retornar 6, $(1 + 2 + 3)$.\n",
    "    - O desafio aqui é separar os dígitos de um número inteiro usando operações aritméticas <br> <br>\n",
    "\n",
    "- No programa principal solicite ao usuário que insira um número e utilize a função ```soma_digitos``` para calcular e exibir a soma dos seus dígitos."
   ]
  },
  {
   "cell_type": "code",
   "execution_count": 5,
   "id": "34838ebf",
   "metadata": {},
   "outputs": [],
   "source": [
    "## Crie aqui a função soma_digitos()\n",
    "def soma_digitos(numero):\n",
    "    numero = abs(numero)\n",
    "    soma = 0\n",
    "    while numero > 0:\n",
    "        soma += numero % 10\n",
    "        numero //= 10\n",
    "    return soma"
   ]
  },
  {
   "cell_type": "code",
   "execution_count": 6,
   "id": "27c35b21",
   "metadata": {},
   "outputs": [
    {
     "name": "stdout",
     "output_type": "stream",
     "text": [
      "A soma dos dígitos de 123 é 6.\n"
     ]
    }
   ],
   "source": [
    "## Escreva aqui o programa principal e execute a célula\n",
    "n = int(input(\"Digite um número inteiro: \"))\n",
    "resultado = soma_digitos(n) \n",
    "print(f\"A soma dos dígitos de {n} é {resultado}.\")"
   ]
  },
  {
   "cell_type": "markdown",
   "id": "c318b159",
   "metadata": {},
   "source": [
    "### Q4.\n",
    "\n",
    "- Crie a função ```inverteValor()``` que recebe um inteiro de qualquer tamanho e retorna esse valor invertido usando apenas operações aritméticas\n",
    "- Crie a função ```verificaInverso()``` que recebe o valor original e o valor invertido e retorna verdadeiro se ambos forem igualmente par ou igualmente ímpar. Retorne falso caso contrário.\n",
    "- No programa principal, peça um valor do usuário e imprima o retorno de ambas as funções.\n"
   ]
  },
  {
   "cell_type": "code",
   "execution_count": 25,
   "id": "e4e47d1d",
   "metadata": {},
   "outputs": [],
   "source": [
    "## Crie aqui as funções inverteValor() e verificaInverso()\n",
    "def inverteValor(numero):\n",
    "    numero = abs(numero)  # Garante que é positivo para inverter corretamente\n",
    "    invertido = 0\n",
    "    while numero > 0:\n",
    "        digito = numero % 10\n",
    "        invertido = invertido * 10 + digito\n",
    "        numero //= 10\n",
    "    return invertido\n",
    "\n",
    "def verificaInverso(original, invertido):\n",
    "    return (original % 2) == (invertido % 2)\n"
   ]
  },
  {
   "cell_type": "code",
   "execution_count": 26,
   "id": "a9514e56",
   "metadata": {},
   "outputs": [
    {
     "name": "stdout",
     "output_type": "stream",
     "text": [
      "O número invertido de 34 é 43.\n",
      "Os números 34 e 43 são ambos pares ou ambos ímpares? False\n"
     ]
    }
   ],
   "source": [
    "## Escreva aqui o programa principal e execute a célula\n",
    "numero = int(input(\"Digite um número inteiro: \"))\n",
    "\n",
    "# Chama as funções\n",
    "invertido = inverteValor(numero)\n",
    "resultado_verificacao = verificaInverso(numero, invertido)\n",
    "\n",
    "# Exibe os resultados\n",
    "print(f\"O número invertido de {numero} é {invertido}.\")\n",
    "print(f\"Os números {numero} e {invertido} são ambos pares ou ambos ímpares? {resultado_verificacao}\")"
   ]
  },
  {
   "cell_type": "markdown",
   "id": "329be966",
   "metadata": {},
   "source": [
    "### Q5.\n",
    "\n",
    "Você está desenvolvendo um programa para auxiliar em cálculos de geometria básica. Crie as seguintes funções:\n",
    "- A função ```calcula_perimetro_triangulo()``` que recebe três inteiros correspondentes aos lados de um triângulo e retorna o perímetro do triângulo, ou seja, a soma dos seus lados.\n",
    "- A função ```calcula_perimetro_circulo()``` que recebe um inteiro referente ao raio do círculo e retorna o perímetro do círculo, dado por $2 \\pi r$. Use a constante $\\pi$ da biblioteca ```math```.\n",
    "- A função ```calcula_perimetro_retangulo()``` que possui um parâmetro obrigatório ```lado1``` e um opcional ```lado2```, ambos inteiros. Se o valor opcional não for fornecido, significa que se trata de um quadrado. Sua função deve calcular e retornar o perímetro do retângulo, ou seja, a soma de seus lados. \n",
    "    - Para o quadrado, é dado por $4 \\times lado1$\n",
    "    - Para o retângulo é dado por $2 \\times lado1 + 2 \\times lado2$\n",
    "    \n",
    "- No programa principal apresente um menu com as opções disponíveis do seu sistema e uma quarta opção ```Sair```. Solicite ao usuário a opção desejada, solicite as entradas correspondentes à opção escolhida, invoque a respective função e apresente o seu retorno. Seu programa deve retornar ao menu até que o usuário escolha a opção ```Sair```\n",
    "\n",
    "Exemplo de interação:\n",
    "```\n",
    "1 - Calcular perímetro triângulo\n",
    "2 - Calcular perímetro círculo\n",
    "3 - Calcular perímetro retângulo\n",
    "4 - Sair\n",
    "\n",
    "Opção: 1\n",
    "Digite os três lados do triângulo:\n",
    "3\n",
    "4\n",
    "5\n",
    "O perímetro é: 12\n",
    "\n",
    "1 - Calcular perímetro triângulo\n",
    "2 - Calcular perímetro círculo\n",
    "3 - Calcular perímetro retângulo\n",
    "4 - Sair\n",
    "\n",
    "Opção: 3\n",
    "Informe os dois lados do retângulo. Se for um quadrado, digite 0 para o segundo valor:\n",
    "5\n",
    "0\n",
    "O perímetro é: 20\n",
    "\n",
    "1 - Calcular perímetro triângulo\n",
    "2 - Calcular perímetro círculo\n",
    "3 - Calcular perímetro retângulo\n",
    "4 - Sair\n",
    "\n",
    "Opção: 4\n",
    "```"
   ]
  },
  {
   "cell_type": "code",
   "execution_count": 37,
   "id": "0793d328",
   "metadata": {},
   "outputs": [],
   "source": [
    "## Crie aqui as funções \n",
    "\n",
    "#perimetro triangulo\n",
    "def calcula_perimetro_triangulo(lado1, lado2, lado3):\n",
    "    return lado1 + lado2 + lado3\n",
    "\n",
    "#perrimetro circulo\n",
    "import math as Math\n",
    "def calcula_perimetro_circulo(raio):\n",
    "    return 2 * Math.pi * raio\n",
    "\n",
    "#perimetro retangulo\n",
    "def calcula_perimetro_retangulo(lado1, lado2=0): \n",
    "    if lado2 == 0:\n",
    "        return 4 * lado1  # Quadrado]\n",
    "    else:\n",
    "        return 2 * (lado1 + lado2) # retângulo"
   ]
  },
  {
   "cell_type": "code",
   "execution_count": 36,
   "id": "36269c71",
   "metadata": {},
   "outputs": [
    {
     "name": "stdout",
     "output_type": "stream",
     "text": [
      "\n",
      "===== Calculadora de Perímetro =====\n",
      "1 - Calcular perímetro triângulo\n",
      "2 - Calcular perímetro círculo\n",
      "3 - Calcular perímetro retângulo\n",
      "4 - Sair\n",
      "O perímetro do círculo é: 25.132741228718345\n",
      "\n",
      "===== Calculadora de Perímetro =====\n",
      "1 - Calcular perímetro triângulo\n",
      "2 - Calcular perímetro círculo\n",
      "3 - Calcular perímetro retângulo\n",
      "4 - Sair\n",
      "O perímetro do círculo é: 25.132741228718345\n",
      "\n",
      "===== Calculadora de Perímetro =====\n",
      "1 - Calcular perímetro triângulo\n",
      "2 - Calcular perímetro círculo\n",
      "3 - Calcular perímetro retângulo\n",
      "4 - Sair\n",
      "Saindo do programa...\n"
     ]
    }
   ],
   "source": [
    "## Escreva aqui o programa principal e execute a célula\n",
    "\n",
    "# No programa principal apresente um menu com as opções disponíveis do seu sistema e uma quarta opção ```Sair```. Solicite ao usuário a opção desejada, solicite as entradas correspondentes à opção escolhida, invoque a respective função e apresente o seu retorno. Seu programa deve retornar ao menu até que o usuário escolha a opção ```Sair```\n",
    "\n",
    "while True:\n",
    "    print(\"\\n===== Calculadora de Perímetro =====\") # Menu de opções\n",
    "    print(\"1 - Calcular perímetro triângulo\")\n",
    "    print(\"2 - Calcular perímetro círculo\")\n",
    "    print(\"3 - Calcular perímetro retângulo\")\n",
    "    print(\"4 - Sair\")\n",
    "\n",
    "    opcao = input(\"Escolha uma opção (1-4): \")\n",
    "    if opcao == \"1\":\n",
    "        lado1 = float(input(\"Digite o comprimento do lado 1: \"))\n",
    "        lado2 = float(input(\"Digite o comprimento do lado 2: \"))\n",
    "        lado3 = float(input(\"Digite o comprimento do lado 3: \"))\n",
    "        perimetro = calcula_perimetro_triangulo(lado1, lado2, lado3)\n",
    "        print(f\"O perímetro do triângulo é: {perimetro}\")\n",
    "    elif opcao == \"2\":\n",
    "        raio = float(input(\"Digite o raio do círculo: \"))\n",
    "        perimetro = calcula_perimetro_circulo(raio)\n",
    "        print(f\"O perímetro do círculo é: {perimetro:.2f}\")\n",
    "    elif opcao == \"3\":\n",
    "        lado1 = float(input(\"Digite o comprimento do lado 1: \"))\n",
    "        lado2 = float(input(\"Digite o comprimento do lado 2 (0 para quadrado): \"))\n",
    "        perimetro = calcula_perimetro_retangulo(lado1, lado2)\n",
    "        print(f\"O perímetro do retângulo é: {perimetro}\")\n",
    "    elif opcao == \"4\":\n",
    "        print(\"Saindo do programa...\")\n",
    "        break\n",
    "    else:   \n",
    "        print(\"Opção inválida. Por favor, escolha uma opção válida (1-4).\")\n",
    "# Fim do programa principal\n",
    "\n"
   ]
  },
  {
   "cell_type": "markdown",
   "id": "3016bcc7",
   "metadata": {},
   "source": [
    "## Funções ```lambda```"
   ]
  },
  {
   "cell_type": "markdown",
   "id": "f9cdb8dd",
   "metadata": {},
   "source": [
    "### Q6.\n",
    "\n",
    "Crie uma função lambda para verificar se um número é par ou ímpar. Em seguida, solicite ao usuário um número indefinidos de valores (até que o usuário digite 0). Para cada valor de entrada, informe se é par ou ímpar.\n",
    "\n",
    "Exemplo de interação:\n",
    "```\n",
    "Digite os valores que deseja verificar a paridade (digite 0 para finalizar a entrada de dados):\n",
    "3\n",
    "ímpar\n",
    "8\n",
    "par\n",
    "12\n",
    "par\n",
    "5\n",
    "ímpar\n",
    "7ímpar\n",
    "```"
   ]
  },
  {
   "cell_type": "code",
   "execution_count": 39,
   "id": "e3c31a78",
   "metadata": {},
   "outputs": [
    {
     "name": "stdout",
     "output_type": "stream",
     "text": [
      "3 é um número ímpar.\n"
     ]
    }
   ],
   "source": [
    "parimpar = lambda a: a % 2 == 0\n",
    "\n",
    "n = int(input(\"Digite um número inteiro: \"))\n",
    "if parimpar(n):\n",
    "    print(f\"{n} é um número par.\")\n",
    "else:   \n",
    "    print(f\"{n} é um número ímpar.\")"
   ]
  },
  {
   "cell_type": "markdown",
   "id": "5a87474d",
   "metadata": {},
   "source": [
    "### Q7.\n",
    "\n",
    "Escreva um programa que pergunte ao usuário qual operação ele deseja: maior ou menor.\n",
    "Em seguida leia uma quantidade indefinida de valores do usuário, até que o usuário digite o valor zero.\n",
    "Apresente ao final o maior ou menor dos valores digitados de acordo com a escolha do usuário.\n",
    "\n",
    "**Sua solução deve incluir pelo menos uma função ```lambda```** \n",
    "\n",
    "Exemplo de interação:\n",
    "```\n",
    "Opções: (1) maior ou (2) menor?\n",
    "Opção: 1\n",
    "\n",
    "Digite os valores de entrada. Digite 0 para finalizar a entrada de valores.\n",
    "4\n",
    "12\n",
    "15\n",
    "1\n",
    "0\n",
    "\n",
    "O maior valor é: 15\n",
    "```"
   ]
  },
  {
   "cell_type": "code",
   "execution_count": 2,
   "id": "ee3f68ca",
   "metadata": {},
   "outputs": [
    {
     "name": "stdout",
     "output_type": "stream",
     "text": [
      "\n",
      "Digite os valores de entrada. Digite 0 para finalizar a entrada de valores.\n",
      "\n",
      "O menor valor é: 56\n"
     ]
    }
   ],
   "source": [
    "## Escreva aqui o programa principal  \n",
    "# Pergunta qual operação o usuário quer\n",
    "opcao = input(\"Opções: (1) maior ou (2) menor?\\nOpção: \")\n",
    "\n",
    "# Lista para armazenar os valores digitados\n",
    "valores = []\n",
    "\n",
    "print(\"\\nDigite os valores de entrada. Digite 0 para finalizar a entrada de valores.\")\n",
    "\n",
    "while True:\n",
    "    valor = int(input())\n",
    "    if valor == 0:\n",
    "        break\n",
    "    valores.append(valor)\n",
    "\n",
    "# Verifica se a lista não está vazia\n",
    "if valores:\n",
    "    # Usa lambda com as funções max ou min\n",
    "    resultado = (lambda x: max(x) if opcao == \"1\" else min(x))(valores)\n",
    "\n",
    "    # Exibe o resultado\n",
    "    print(f\"\\nO {'maior' if opcao == '1' else 'menor'} valor é: {resultado}\")\n",
    "else:\n",
    "    print(\"Nenhum valor foi inserido.\")\n"
   ]
  }
 ],
 "metadata": {
  "kernelspec": {
   "display_name": "Python 3",
   "language": "python",
   "name": "python3"
  },
  "language_info": {
   "codemirror_mode": {
    "name": "ipython",
    "version": 3
   },
   "file_extension": ".py",
   "mimetype": "text/x-python",
   "name": "python",
   "nbconvert_exporter": "python",
   "pygments_lexer": "ipython3",
   "version": "3.13.3"
  }
 },
 "nbformat": 4,
 "nbformat_minor": 5
}
