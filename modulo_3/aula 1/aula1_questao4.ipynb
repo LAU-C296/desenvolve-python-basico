{
 "cells": [
  {
   "cell_type": "markdown",
   "id": "870d8960",
   "metadata": {},
   "source": [
    "4 - Você é mestre de uma mesa de RPG e vai criar um sistema para validar uma ficha de personagem. Cada personagem tem uma classe específica com requisitos de atributos. Escreva um script que solicita a classe de personagem escolhida (guerreiro, mago ou arqueiro), os pontos de força e os pontos de magia atribuídos ao personagem. O programa deve imprimir True se os pontos de atributo são consistentes com a classe escolhida, seguindo as seguintes regras:\n",
    "\n",
    "Guerreiro: Força deve ser igual ou superior a 15, Magia deve ser 10 ou menos.\n",
    "\n",
    "Mago: Força deve ser 10 ou menos, Magia deve ser igual ou superior a 15.\n",
    "\n",
    "Arqueiro: Força e Magia devem ser ambos superiores a 5, mas nenhum deles pode ser superior a 15.\n",
    "\n",
    "O programa deve imprimir False se os pontos de atributo não são consistentes com a classe escolhida. Segue um exemplo de interação com seu código no terminal, com entradas de dados destacadas em laranja e as impressões de seu código em branco."
   ]
  },
  {
   "cell_type": "code",
   "execution_count": 2,
   "id": "65fe1211",
   "metadata": {},
   "outputs": [
    {
     "name": "stdout",
     "output_type": "stream",
     "text": [
      "False\n"
     ]
    }
   ],
   "source": [
    "# Solicita os dados do personagem\n",
    "classe = input(\"Escolha a classe do personagem (guerreiro, mago ou arqueiro): \").lower()\n",
    "forca = int(input(\"Digite os pontos de Força: \"))\n",
    "magia = int(input(\"Digite os pontos de Magia: \"))\n",
    "\n",
    "# Valida a ficha de acordo com a classe escolhida\n",
    "ficha_valida = (\n",
    "    (classe == \"guerreiro\" and forca >= 15 and magia <= 10) or\n",
    "    (classe == \"mago\" and forca <= 10 and magia >= 15) or\n",
    "    (classe == \"arqueiro\" and 5 < forca <= 15 and 5 < magia <= 15)\n",
    ")\n",
    "\n",
    "# Imprime o resultado da validação\n",
    "print(ficha_valida)\n"
   ]
  }
 ],
 "metadata": {
  "kernelspec": {
   "display_name": "Python 3",
   "language": "python",
   "name": "python3"
  },
  "language_info": {
   "codemirror_mode": {
    "name": "ipython",
    "version": 3
   },
   "file_extension": ".py",
   "mimetype": "text/x-python",
   "name": "python",
   "nbconvert_exporter": "python",
   "pygments_lexer": "ipython3",
   "version": "3.13.3"
  }
 },
 "nbformat": 4,
 "nbformat_minor": 5
}
