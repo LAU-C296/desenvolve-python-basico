{
 "cells": [
  {
   "cell_type": "markdown",
   "id": "1fa4870c",
   "metadata": {},
   "source": [
    "5 - Solicite de um usuário seu gênero (\"M\" ou \"F\"), sua idade e seu tempo de serviço (em anos) e escreva uma expressão que imprima True se a pessoa já pode se aposentar, ou False caso contrário, de acordo com as seguintes regras:\n",
    "\n",
    "A: Para mulheres, ter mais de 60 anos. Para homens, 65.\n",
    "\n",
    "B: Ou ter trabalhado pelo menos 30 anos\n",
    "\n",
    "C: Ou ter 60 anos  e trabalhado pelo menos 25."
   ]
  },
  {
   "cell_type": "code",
   "execution_count": 2,
   "id": "0d1cb2fe",
   "metadata": {},
   "outputs": [
    {
     "name": "stdout",
     "output_type": "stream",
     "text": [
      "True\n"
     ]
    }
   ],
   "source": [
    "#feminino pu masculino \n",
    "genero = input(\"Digite o gênero (f/m): \")\n",
    "idade = int(input(\"Digite a idade: \"))\n",
    "tempo_serviço = int(input(\"Digite o tempo de serviço: \"))\n",
    "\n",
    "a = (genero == \"f\" and idade >= 60) or \\\n",
    "(genero == \"m\" and idade >= 65)\n",
    "b = tempo_serviço > 30\n",
    "c = idade >= 60 tempo >= 25\n",
    "\n",
    "pode_aposentar = a or b or c\n",
    "print(pode_aposentar)"
   ]
  }
 ],
 "metadata": {
  "kernelspec": {
   "display_name": "Python 3",
   "language": "python",
   "name": "python3"
  },
  "language_info": {
   "codemirror_mode": {
    "name": "ipython",
    "version": 3
   },
   "file_extension": ".py",
   "mimetype": "text/x-python",
   "name": "python",
   "nbconvert_exporter": "python",
   "pygments_lexer": "ipython3",
   "version": "3.13.3"
  }
 },
 "nbformat": 4,
 "nbformat_minor": 5
}
