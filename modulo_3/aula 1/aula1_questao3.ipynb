{
 "cells": [
  {
   "cell_type": "markdown",
   "id": "94127660",
   "metadata": {},
   "source": [
    "3 - Você está desenvolvendo um sistema de admissão para um clube juvenil de jogos de tabuleiro. Escreva um programa em Python que pergunte ao usuário sua idade, se já jogou pelo menos 3 jogos de tabuleiro (resposta deve ser True ou False) e quantas vezes venceu um jogo. O programa deve imprimir True se o participante tiver entre 16 e 18 anos, já tiver jogado pelo menos 3 jogos e já ter vencido pelo menos 1 jogo, permitindo seu ingresso no clube. Sua expressão deve imprimir False caso contrário. Aqui está um exemplo de interação com seu código no terminal, com entradas de dados destacadas em laranja e as impressões de seu código em branco."
   ]
  },
  {
   "cell_type": "code",
   "execution_count": null,
   "id": "5c111f6c",
   "metadata": {},
   "outputs": [
    {
     "name": "stdout",
     "output_type": "stream",
     "text": [
      "True\n",
      "True\n"
     ]
    }
   ],
   "source": [
    "idade = int(input(\"Qual a sua idade? \")) \n",
    "\n",
    "jogos = int(input(\"Quantos jogos você já jogou? \"))\n",
    "\n",
    "mais_3_jogos = jogos > 3 \n",
    "print(mais_3_jogos)\n",
    "\n",
    "ganhos = int(input(\"Quantos jogos você já ganhou? \"))\n",
    "\n",
    "apto = idade >= 16 or idade <= 18  and jogos >= 3 and ganhos >= 2\n",
    "print(apto)\n",
    "\n",
    "\n",
    "\n",
    "\n"
   ]
  }
 ],
 "metadata": {
  "kernelspec": {
   "display_name": "Python 3",
   "language": "python",
   "name": "python3"
  },
  "language_info": {
   "codemirror_mode": {
    "name": "ipython",
    "version": 3
   },
   "file_extension": ".py",
   "mimetype": "text/x-python",
   "name": "python",
   "nbconvert_exporter": "python",
   "pygments_lexer": "ipython3",
   "version": "3.13.3"
  }
 },
 "nbformat": 4,
 "nbformat_minor": 5
}
