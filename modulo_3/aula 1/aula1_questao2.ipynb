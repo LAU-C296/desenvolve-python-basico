{
 "cells": [
  {
   "cell_type": "markdown",
   "id": "340e1698",
   "metadata": {},
   "source": [
    "2 - Dando continuidade à questão anterior, um outro bar permite a entrada de grupos onde pelo menos uma pessoa é maior de idade (ficando responsável pelas outras). Ajuste sua resposta da questão anterior, ainda solicitando as idades de Juliana e Cris, mas ajustando a expressão para esse novo cenário, imprimindo True se puderem entrar no bar, e False caso contrário."
   ]
  },
  {
   "cell_type": "code",
   "execution_count": 6,
   "id": "ee376210",
   "metadata": {},
   "outputs": [],
   "source": [
    "idade_juliana = int(input(\"Digite a idade de Juliana: \"))\n",
    "idade_cris = int(input(\"Digite a idade de cris: \"))\n",
    "\n",
    "\n",
    "#or (se um for verdadeiro (um maior de idade) o resultado é verdadeiro)\n",
    "\n",
    "result = idade_juliana > 17  or idade_cris > 17 "
   ]
  }
 ],
 "metadata": {
  "kernelspec": {
   "display_name": "Python 3",
   "language": "python",
   "name": "python3"
  },
  "language_info": {
   "codemirror_mode": {
    "name": "ipython",
    "version": 3
   },
   "file_extension": ".py",
   "mimetype": "text/x-python",
   "name": "python",
   "nbconvert_exporter": "python",
   "pygments_lexer": "ipython3",
   "version": "3.13.3"
  }
 },
 "nbformat": 4,
 "nbformat_minor": 5
}
