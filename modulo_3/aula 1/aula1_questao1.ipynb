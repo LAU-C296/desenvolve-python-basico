{
 "cells": [
  {
   "cell_type": "markdown",
   "id": "6e0daff9",
   "metadata": {},
   "source": [
    "1 - Juliana e Cris querem entrar em um bar, mas só podem se ambos forem maiores de idade (>17). Escreva um programa que solicite as idades de Juliana e Cris e imprima True se ambas forem maiores de 17 anos, indicando que podem entrar no bar, e False caso contrário.\n",
    "\n",
    " "
   ]
  },
  {
   "cell_type": "code",
   "execution_count": null,
   "id": "1896a52a",
   "metadata": {},
   "outputs": [
    {
     "name": "stdout",
     "output_type": "stream",
     "text": [
      "True\n"
     ]
    }
   ],
   "source": [
    "idade_juliana = int(input(\"Qual a idade de Juliana? \"))\n",
    "idade_cris = int(input(\"Qual a idade de cris? \"))\n",
    "\n",
    "#and (as duas tem de ser verdadeiras)\n",
    "\n",
    "result = idade_juliana > 17 and idade_cris >17\n",
    "print(result)"
   ]
  }
 ],
 "metadata": {
  "kernelspec": {
   "display_name": "Python 3",
   "language": "python",
   "name": "python3"
  },
  "language_info": {
   "codemirror_mode": {
    "name": "ipython",
    "version": 3
   },
   "file_extension": ".py",
   "mimetype": "text/x-python",
   "name": "python",
   "nbconvert_exporter": "python",
   "pygments_lexer": "ipython3",
   "version": "3.13.3"
  }
 },
 "nbformat": 4,
 "nbformat_minor": 5
}
