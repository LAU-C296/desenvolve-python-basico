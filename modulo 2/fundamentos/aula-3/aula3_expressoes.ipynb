{
  "cells": [
    {
      "cell_type": "markdown",
      "metadata": {
        "id": "1pCTdOHonv5f"
      },
      "source": [
        "# Módulo 2\n",
        "\n",
        "## 2.3 Instruções e Expressões\n",
        "\n",
        "### Q1\n",
        "\n",
        "Faça um programa que armazene o valor de 20 reais de salário por hora de um trabalhador, e o número de 40 horas trabalhadas na semana. Com essas informações, calcule e imprima:\n",
        "- Salário semanal bruto\n",
        "- Valor descontado por semana INSS (10% do bruto)\n",
        "- Valor descontado por semana pelo sindicato (5% do bruto)\n",
        "- Salário semanal líquido (Bruto - Descontos)"
      ]
    },
    {
      "cell_type": "code",
      "execution_count": 64,
      "metadata": {
        "id": "hVbX0I97nj6M"
      },
      "outputs": [
        {
          "name": "stdout",
          "output_type": "stream",
          "text": [
            "Salário semanal bruto: R$ 800\n",
            "Desconto do INSS: R$ 80.0\n",
            "Desconto do sindicato: R$ 40.0\n",
            "Salário semanal líquido: R$ 680.0\n"
          ]
        }
      ],
      "source": [
        "## Escreva e execute seu código aqui\n",
        "salário_hora = 20\n",
        "horas_trabalhadas = 40\n",
        "\n",
        "salário_semanal_bruto = salário_hora * horas_trabalhadas\n",
        "\n",
        "# Calcular o desconto do INSS\n",
        "desconto = 0.10 # 10% de desconto do INSS\n",
        "valor_inss = salário_semanal_bruto * desconto\n",
        "\n",
        "# Calcular o desconto do \n",
        "desconto_sindicato = 0.05 # 5% de desconto do sindicato\n",
        "valor_sindicato = salário_semanal_bruto * desconto_sindicato\n",
        "\n",
        "# Calcular o salário semanal líquido\n",
        "salário_semanal_liquido = salário_semanal_bruto - valor_inss - valor_sindicato\n",
        "\n",
        "print(\"Salário semanal bruto: R$\", salário_semanal_bruto)\n",
        "print(\"Desconto do INSS: R$\", valor_inss)\n",
        "print(\"Desconto do sindicato: R$\", valor_sindicato)\n",
        "print(\"Salário semanal líquido: R$\", salário_semanal_liquido)\n",
        "\n"
      ]
    },
    {
      "cell_type": "markdown",
      "metadata": {
        "id": "pIxKX9J2oGZ1"
      },
      "source": [
        "### Q2\n",
        "\n",
        "Altere o programa anterior para a partir dos valores de horas trabalhadas por semana e salário por hora, calcular **em somente duas instruções**:\n",
        "- Salário semanal bruto\n",
        "- Salário semanal líquido com todos os descontos. Para a segunda instrução, realize todos os cálculos aritméticos em uma expressão composta.\n"
      ]
    },
    {
      "cell_type": "code",
      "execution_count": 65,
      "metadata": {
        "id": "pAHw9Xf9oGoi"
      },
      "outputs": [
        {
          "name": "stdout",
          "output_type": "stream",
          "text": [
            "Salário semanal bruto: R$ 800\n",
            "Salário semanal líquido: R$ 680.0\n"
          ]
        }
      ],
      "source": [
        "## Escreva e execute seu código\n",
        "salário_hora = 20\n",
        "horas_trabalhadas = 40\n",
        "\n",
        "salário_semanal_bruto = salário_hora * horas_trabalhadas\n",
        "print(\"Salário semanal bruto: R$\", salário_semanal_bruto)\n",
        "\n",
        "salário_semanal_liquido = salário_semanal_bruto - (salário_semanal_bruto * 0.10) - (salário_semanal_bruto * 0.05)\n",
        "print(\"Salário semanal líquido: R$\", salário_semanal_liquido)\n",
        "\n",
        "\n",
        "\n",
        "\n"
      ]
    },
    {
      "cell_type": "markdown",
      "metadata": {
        "id": "m8tlHRuWpBOB"
      },
      "source": [
        "### Q3\n",
        "\n",
        "Você está desenvolvendo um software de conversão de moeda e precisa calcular o valor equivalente em yuan chinês a partir de uma quantia em real. A taxa de câmbio é de 0.69 BRL (real) para 1 CNY (yuan). Escreva um programa que define em uma variável uma quantia em reais (BRL) e calcula o valor equivalente em yuan (CNY). Imprima o resultado."
      ]
    },
    {
      "cell_type": "code",
      "execution_count": 66,
      "metadata": {
        "id": "2bPw7uF6oeL9"
      },
      "outputs": [
        {
          "name": "stdout",
          "output_type": "stream",
          "text": [
            "Valor em Yuan Chinês (CNY): 1.4492753623188408\n"
          ]
        }
      ],
      "source": [
        "## Escreva e execute seu código aqui\n",
        "# Taxa de câmbio fixa\n",
        "taxa_cambio = 0.69\n",
        "\n",
        "# Valor em reais (BRL) a ser convertido\n",
        "valor_brl = 1\n",
        "\n",
        "# Conversão para Yuan Chinês (CNY)\n",
        "valor_cny = valor_brl / taxa_cambio\n",
        "\n",
        "# Exibição do resultado\n",
        "print(\"Valor em Yuan Chinês (CNY):\", valor_cny)"
      ]
    },
    {
      "cell_type": "markdown",
      "metadata": {
        "id": "-Na3ltDCp74A"
      },
      "source": [
        "### Q4\n",
        "\n",
        "Você é um treinador de corrida e deseja calcular a velocidade média que um atleta precisa manter para completar a Maratona Internacional de São Silvestre, que tem uma distância total de 42.195 km. A fórmula para calcular a velocidade média ($v\\_media$) é dada por $v\\_media = \\frac{distancia}{tempo}$ . Escreva um programa em Python para calcular a velocidade média necessária para completar a maratona em 3 horas.\n",
        "\n",
        "**Calcule e imprima o resultado em metros/segundo**, ou seja, converta a distância de quilômetros para metros ($metro = \\frac{km}{1000}$) e a velocidade de horas para segundos $(segundo = \\frac{hora}{3600})$."
      ]
    },
    {
      "cell_type": "code",
      "execution_count": null,
      "metadata": {
        "id": "Bn6l8kcSrE4L"
      },
      "outputs": [
        {
          "name": "stdout",
          "output_type": "stream",
          "text": [
            "A velocidade média é de 50.634 m/s\n"
          ]
        }
      ],
      "source": [
        "## Escreva e execute seu código \n",
        "distancia_total_km= 42.195\n",
        "tempo_total_horas= 3\n",
        "metro = distancia_total_km/1000\n",
        "segundos = tempo_total_horas/3600\n",
        "v_media = metro/segundos\n",
        "\n",
        "print(\"A velocidade média é de\", v_media, \"m/s\")\n",
        "\n",
        "\n"
      ]
    }
  ],
  "metadata": {
    "colab": {
      "provenance": []
    },
    "kernelspec": {
      "display_name": "Python 3",
      "name": "python3"
    },
    "language_info": {
      "codemirror_mode": {
        "name": "ipython",
        "version": 3
      },
      "file_extension": ".py",
      "mimetype": "text/x-python",
      "name": "python",
      "nbconvert_exporter": "python",
      "pygments_lexer": "ipython3",
      "version": "3.13.3"
    }
  },
  "nbformat": 4,
  "nbformat_minor": 0
}
